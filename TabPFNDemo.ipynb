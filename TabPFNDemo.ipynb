{
  "nbformat": 4,
  "nbformat_minor": 0,
  "metadata": {
    "colab": {
      "provenance": [],
      "collapsed_sections": []
    },
    "kernelspec": {
      "name": "python3",
      "display_name": "Python 3"
    },
    "language_info": {
      "name": "python"
    },
    "accelerator": "GPU"
  },
  "cells": [
    {
      "cell_type": "markdown",
      "source": [
        "**In order to get the fastest predictions you need to enable GPUs for the notebook:**\n",
        "* Navigate to Edit→Notebook Settings\n",
        "* select GPU from the Hardware Accelerator drop-down\n",
        "(https://colab.research.google.com/notebooks/gpu.ipynb#scrollTo=oM_8ELnJq_wd)"
      ],
      "metadata": {
        "id": "x1ScIqM1yzoK"
      }
    },
    {
      "cell_type": "code",
      "source": [
        "!pip install tabpfn"
      ],
      "metadata": {
        "id": "N8mEqwDWHD5S"
      },
      "execution_count": null,
      "outputs": []
    },
    {
      "cell_type": "code",
      "source": [
        "import sys\n",
        "import numpy as np\n",
        "from pathlib import Path\n",
        "import pandas as pd\n",
        "import torch\n",
        "import openml\n",
        "import os\n",
        "import time\n",
        "import matplotlib.pyplot as plt\n",
        "from matplotlib.colors import ListedColormap\n",
        "from pathlib import Path\n",
        "\n",
        "from sklearn.metrics import accuracy_score\n",
        "from sklearn.datasets import load_breast_cancer\n",
        "from sklearn.model_selection import train_test_split\n",
        "\n",
        "from tabpfn.scripts.transformer_prediction_interface import TabPFNClassifier\n",
        "from tabpfn.scripts.decision_boundary import DecisionBoundaryDisplay"
      ],
      "metadata": {
        "id": "Bkj2F3Q72OB0"
      },
      "execution_count": null,
      "outputs": []
    },
    {
      "cell_type": "code",
      "source": [
        "X, y = load_breast_cancer(return_X_y=True)\n",
        "X_train, X_test, y_train, y_test = train_test_split(X, y, test_size=0.33, random_state=42)"
      ],
      "metadata": {
        "id": "aa8nmYiM2UjO"
      },
      "execution_count": null,
      "outputs": []
    },
    {
      "cell_type": "code",
      "source": [
        "# N_ensemble_configurations defines how many estimators are averaged, it is bounded by #features * #classes\n",
        "# more ensemble members are slower, but more accurate\n",
        "classifier = TabPFNClassifier(device='cuda', N_ensemble_configurations=4)"
      ],
      "metadata": {
        "id": "eZIZ2Fi1t5v7"
      },
      "execution_count": null,
      "outputs": []
    },
    {
      "cell_type": "code",
      "source": [
        "start = time.time()\n",
        "classifier.fit(X_train, y_train)\n",
        "y_eval, p_eval = classifier.predict(X_test, return_winning_probability=True)\n",
        "print('Prediction time: ', time.time() - start, 'Accuracy', accuracy_score(y_test, y_eval))"
      ],
      "metadata": {
        "id": "GtwfnbjSJCqw"
      },
      "execution_count": null,
      "outputs": []
    },
    {
      "cell_type": "code",
      "source": [
        "# print(file, type(file))\n",
        "out_table = pd.DataFrame(X_test.copy().astype(str))\n",
        "out_table['prediction'] = [f\"{y_e} (p={p_e:.2f})\" for y_e, p_e in zip(y_eval, p_eval)]\n",
        "out_table"
      ],
      "metadata": {
        "id": "X1i0muy4tW9M"
      },
      "execution_count": null,
      "outputs": []
    },
    {
      "cell_type": "code",
      "source": [
        "# PLOTTING\n",
        "fig = plt.figure(figsize=(10,10))\n",
        "ax = fig.add_subplot(111)\n",
        "cm = plt.cm.RdBu\n",
        "cm_bright = ListedColormap([\"#FF0000\", \"#0000FF\"])\n",
        "\n",
        "# Plot the training points\n",
        "vfunc = np.vectorize(lambda x : np.where(classifier.classes_ == x)[0])\n",
        "y_train_index = vfunc(y_train)\n",
        "y_train_index = y_train_index == 0\n",
        "\n",
        "ax.scatter(X_train[:, 0], X_train[:, 1], c=y_train_index, cmap=cm_bright)\n",
        "\n",
        "classifier.fit(X_train[:, 0:2], y_train_index)\n",
        "\n",
        "DecisionBoundaryDisplay.from_estimator(\n",
        "    classifier, X_train[:, 0:2], alpha=0.6, ax=ax, eps=2.0, grid_resolution=25, response_method=\"predict_proba\"\n",
        ")"
      ],
      "metadata": {
        "id": "OBXN4152JFAO"
      },
      "execution_count": null,
      "outputs": []
    }
  ]
}