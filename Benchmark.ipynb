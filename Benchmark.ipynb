{
  "nbformat": 4,
  "nbformat_minor": 0,
  "metadata": {
    "colab": {
      "provenance": [],
      "authorship_tag": "ABX9TyOkL1Ey57T9jSPRx+ScFPzD",
      "include_colab_link": true
    },
    "kernelspec": {
      "name": "python3",
      "display_name": "Python 3"
    },
    "language_info": {
      "name": "python"
    },
    "gpuClass": "standard",
    "accelerator": "GPU"
  },
  "cells": [
    {
      "cell_type": "markdown",
      "metadata": {
        "id": "view-in-github",
        "colab_type": "text"
      },
      "source": [
        "<a href=\"https://colab.research.google.com/github/margual56/InteligenciaNegocioClasificadores/blob/main/Benchmark.ipynb\" target=\"_parent\"><img src=\"https://colab.research.google.com/assets/colab-badge.svg\" alt=\"Open In Colab\"/></a>"
      ]
    },
    {
      "cell_type": "code",
      "execution_count": 1,
      "metadata": {
        "id": "XfPwAKPv1UW2",
        "outputId": "46ae743c-7a30-4d50-c22e-59434348bfe3",
        "colab": {
          "base_uri": "https://localhost:8080/"
        }
      },
      "outputs": [
        {
          "output_type": "stream",
          "name": "stdout",
          "text": [
            "Looking in indexes: https://pypi.org/simple, https://us-python.pkg.dev/colab-wheels/public/simple/\n",
            "Collecting ipython-autotime\n",
            "  Downloading ipython_autotime-0.3.1-py2.py3-none-any.whl (6.8 kB)\n",
            "Requirement already satisfied: ipython in /usr/local/lib/python3.7/dist-packages (from ipython-autotime) (7.9.0)\n",
            "Requirement already satisfied: traitlets>=4.2 in /usr/local/lib/python3.7/dist-packages (from ipython->ipython-autotime) (5.1.1)\n",
            "Collecting jedi>=0.10\n",
            "  Downloading jedi-0.18.1-py2.py3-none-any.whl (1.6 MB)\n",
            "\u001b[K     |████████████████████████████████| 1.6 MB 40.0 MB/s \n",
            "\u001b[?25hRequirement already satisfied: prompt-toolkit<2.1.0,>=2.0.0 in /usr/local/lib/python3.7/dist-packages (from ipython->ipython-autotime) (2.0.10)\n",
            "Requirement already satisfied: setuptools>=18.5 in /usr/local/lib/python3.7/dist-packages (from ipython->ipython-autotime) (57.4.0)\n",
            "Requirement already satisfied: pickleshare in /usr/local/lib/python3.7/dist-packages (from ipython->ipython-autotime) (0.7.5)\n",
            "Requirement already satisfied: pexpect in /usr/local/lib/python3.7/dist-packages (from ipython->ipython-autotime) (4.8.0)\n",
            "Requirement already satisfied: pygments in /usr/local/lib/python3.7/dist-packages (from ipython->ipython-autotime) (2.6.1)\n",
            "Requirement already satisfied: backcall in /usr/local/lib/python3.7/dist-packages (from ipython->ipython-autotime) (0.2.0)\n",
            "Requirement already satisfied: decorator in /usr/local/lib/python3.7/dist-packages (from ipython->ipython-autotime) (4.4.2)\n",
            "Requirement already satisfied: parso<0.9.0,>=0.8.0 in /usr/local/lib/python3.7/dist-packages (from jedi>=0.10->ipython->ipython-autotime) (0.8.3)\n",
            "Requirement already satisfied: six>=1.9.0 in /usr/local/lib/python3.7/dist-packages (from prompt-toolkit<2.1.0,>=2.0.0->ipython->ipython-autotime) (1.15.0)\n",
            "Requirement already satisfied: wcwidth in /usr/local/lib/python3.7/dist-packages (from prompt-toolkit<2.1.0,>=2.0.0->ipython->ipython-autotime) (0.2.5)\n",
            "Requirement already satisfied: ptyprocess>=0.5 in /usr/local/lib/python3.7/dist-packages (from pexpect->ipython->ipython-autotime) (0.7.0)\n",
            "Installing collected packages: jedi, ipython-autotime\n",
            "Successfully installed ipython-autotime-0.3.1 jedi-0.18.1\n",
            "time: 457 µs (started: 2022-11-17 10:36:33 +00:00)\n"
          ]
        }
      ],
      "source": [
        "# Imprime el tiempo que tarda en ejecutar cada celda\n",
        "!pip install ipython-autotime\n",
        "%load_ext autotime"
      ]
    },
    {
      "cell_type": "code",
      "source": [
        "# Instala el clasificador y open\n",
        "!pip install tabpfn"
      ],
      "metadata": {
        "id": "jz44GGGk1Yqm",
        "outputId": "501f0d1e-3b14-44b7-de1d-d2d1227234e1",
        "colab": {
          "base_uri": "https://localhost:8080/"
        }
      },
      "execution_count": 2,
      "outputs": [
        {
          "output_type": "stream",
          "name": "stdout",
          "text": [
            "Looking in indexes: https://pypi.org/simple, https://us-python.pkg.dev/colab-wheels/public/simple/\n",
            "Collecting tabpfn\n",
            "  Downloading tabpfn-0.1.7-py3-none-any.whl (141 kB)\n",
            "\u001b[K     |████████████████████████████████| 141 kB 31.6 MB/s \n",
            "\u001b[?25hCollecting gpytorch>=1.5.0\n",
            "  Downloading gpytorch-1.8.1-py2.py3-none-any.whl (361 kB)\n",
            "\u001b[K     |████████████████████████████████| 361 kB 46.5 MB/s \n",
            "\u001b[?25hRequirement already satisfied: numpy>=1.21.2 in /usr/local/lib/python3.7/dist-packages (from tabpfn) (1.21.6)\n",
            "Requirement already satisfied: torch>=1.9.0 in /usr/local/lib/python3.7/dist-packages (from tabpfn) (1.12.1+cu113)\n",
            "Requirement already satisfied: scikit-learn>=0.24.2 in /usr/local/lib/python3.7/dist-packages (from tabpfn) (1.0.2)\n",
            "Requirement already satisfied: pyyaml>=5.4.1 in /usr/local/lib/python3.7/dist-packages (from tabpfn) (6.0)\n",
            "Requirement already satisfied: requests>=2.23.0 in /usr/local/lib/python3.7/dist-packages (from tabpfn) (2.23.0)\n",
            "Requirement already satisfied: scipy in /usr/local/lib/python3.7/dist-packages (from gpytorch>=1.5.0->tabpfn) (1.7.3)\n",
            "Requirement already satisfied: idna<3,>=2.5 in /usr/local/lib/python3.7/dist-packages (from requests>=2.23.0->tabpfn) (2.10)\n",
            "Requirement already satisfied: chardet<4,>=3.0.2 in /usr/local/lib/python3.7/dist-packages (from requests>=2.23.0->tabpfn) (3.0.4)\n",
            "Requirement already satisfied: urllib3!=1.25.0,!=1.25.1,<1.26,>=1.21.1 in /usr/local/lib/python3.7/dist-packages (from requests>=2.23.0->tabpfn) (1.24.3)\n",
            "Requirement already satisfied: certifi>=2017.4.17 in /usr/local/lib/python3.7/dist-packages (from requests>=2.23.0->tabpfn) (2022.9.24)\n",
            "Requirement already satisfied: threadpoolctl>=2.0.0 in /usr/local/lib/python3.7/dist-packages (from scikit-learn>=0.24.2->tabpfn) (3.1.0)\n",
            "Requirement already satisfied: joblib>=0.11 in /usr/local/lib/python3.7/dist-packages (from scikit-learn>=0.24.2->tabpfn) (1.2.0)\n",
            "Requirement already satisfied: typing-extensions in /usr/local/lib/python3.7/dist-packages (from torch>=1.9.0->tabpfn) (4.1.1)\n",
            "Installing collected packages: gpytorch, tabpfn\n",
            "Successfully installed gpytorch-1.8.1 tabpfn-0.1.7\n",
            "time: 4.74 s (started: 2022-11-17 10:36:33 +00:00)\n"
          ]
        }
      ]
    },
    {
      "cell_type": "code",
      "source": [
        "import sys\n",
        "import numpy as np\n",
        "from pathlib import Path\n",
        "import pandas as pd\n",
        "import torch\n",
        "import os\n",
        "import time\n",
        "import matplotlib.pyplot as plt\n",
        "from matplotlib.colors import ListedColormap\n",
        "from pathlib import Path\n",
        "\n",
        "from sklearn.metrics import accuracy_score\n",
        "from sklearn.datasets import fetch_covtype\n",
        "from sklearn.model_selection import train_test_split\n",
        "from sklearn.ensemble import RandomForestClassifier\n",
        "from sklearn.linear_model import LinearRegression\n",
        "\n",
        "from tabpfn.scripts.transformer_prediction_interface import TabPFNClassifier\n",
        "from tabpfn.scripts.decision_boundary import DecisionBoundaryDisplay\n",
        "\n",
        "# Limit the number of rows\n",
        "limit = 100"
      ],
      "metadata": {
        "id": "VE2S9BMj3n7o",
        "outputId": "b3b2c2c0-e992-40fb-ca54-e1b9b90740a4",
        "colab": {
          "base_uri": "https://localhost:8080/"
        }
      },
      "execution_count": 3,
      "outputs": [
        {
          "output_type": "stream",
          "name": "stdout",
          "text": [
            "time: 3.57 s (started: 2022-11-17 10:36:38 +00:00)\n"
          ]
        }
      ]
    },
    {
      "cell_type": "code",
      "source": [
        "# Cargar los datos (https://archive.ics.uci.edu/ml/datasets/Breast+Cancer+Wisconsin+(Diagnostic))\n",
        "X, y = fetch_covtype(return_X_y=True)\n",
        "\n",
        "X = pd.DataFrame(X).sample(n=limit, random_state = 2)\n",
        "y = pd.DataFrame(y).sample(n=limit, random_state = 2)\n",
        "\n",
        "print(X.shape)\n",
        "print(y.shape)\n",
        "\n",
        "X_train, X_test, y_train, y_test = train_test_split(X, y, test_size=0.33, random_state=42)"
      ],
      "metadata": {
        "id": "8TYEl6Hw4C8p",
        "outputId": "138e28a6-ff34-48bb-9e09-d2dcc20700ee",
        "colab": {
          "base_uri": "https://localhost:8080/"
        }
      },
      "execution_count": 5,
      "outputs": [
        {
          "output_type": "stream",
          "name": "stdout",
          "text": [
            "(100, 54)\n",
            "(100, 1)\n",
            "time: 768 ms (started: 2022-11-17 10:38:45 +00:00)\n"
          ]
        }
      ]
    },
    {
      "cell_type": "code",
      "source": [
        "# N_ensemble --> The more, the better and slower\n",
        "tab = TabPFNClassifier(device='cuda', N_ensemble_configurations=16)"
      ],
      "metadata": {
        "id": "rBp6OJ8L5sYe",
        "outputId": "cc7fc641-5f51-41ec-a0d9-fb4995407513",
        "colab": {
          "base_uri": "https://localhost:8080/"
        }
      },
      "execution_count": 6,
      "outputs": [
        {
          "output_type": "stream",
          "name": "stdout",
          "text": [
            "We have to download the TabPFN, as there is no checkpoint at  /usr/local/lib/python3.7/dist-packages/tabpfn/models_diff/prior_diff_real_checkpoint_n_0_epoch_100.cpkt\n",
            "It has about 100MB, so this might take a moment.\n",
            "Using style prior: True\n",
            "Using cuda device\n",
            "Using a Transformer with 25.82 M parameters\n",
            "time: 5.13 s (started: 2022-11-17 10:38:51 +00:00)\n"
          ]
        }
      ]
    },
    {
      "cell_type": "code",
      "source": [
        "tab.fit(X_train, y_train.values.ravel(), overwrite_warning=True)"
      ],
      "metadata": {
        "id": "IChxkomn9KAO",
        "colab": {
          "base_uri": "https://localhost:8080/"
        },
        "outputId": "1bade143-48ed-4e74-e537-0ad1d3238a97"
      },
      "execution_count": 12,
      "outputs": [
        {
          "output_type": "execute_result",
          "data": {
            "text/plain": [
              "TabPFNClassifier(N_ensemble_configurations=16, device='cuda')"
            ]
          },
          "metadata": {},
          "execution_count": 12
        },
        {
          "output_type": "stream",
          "name": "stdout",
          "text": [
            "time: 8.77 ms (started: 2022-11-17 10:41:43 +00:00)\n"
          ]
        }
      ]
    },
    {
      "cell_type": "code",
      "source": [
        "y_evaltab, p_evaltab = tab.predict(X_test, return_winning_probability=True)\n",
        "print('TabPFN ccuracy', accuracy_score(y_test, y_evaltab))"
      ],
      "metadata": {
        "id": "IBAnjcZFHy4n",
        "colab": {
          "base_uri": "https://localhost:8080/"
        },
        "outputId": "c366646f-fd66-4635-bb22-a0fbab5d125b"
      },
      "execution_count": 8,
      "outputs": [
        {
          "output_type": "stream",
          "name": "stdout",
          "text": [
            "TabPFN ccuracy 0.48484848484848486\n",
            "time: 2.98 s (started: 2022-11-17 10:39:02 +00:00)\n"
          ]
        }
      ]
    },
    {
      "cell_type": "code",
      "source": [
        "rfr = RandomForestClassifier()"
      ],
      "metadata": {
        "id": "UFP6BR0q8doL",
        "colab": {
          "base_uri": "https://localhost:8080/"
        },
        "outputId": "872c0f6d-9a4c-4e54-be3d-cb8aae317cf0"
      },
      "execution_count": 9,
      "outputs": [
        {
          "output_type": "stream",
          "name": "stdout",
          "text": [
            "time: 735 µs (started: 2022-11-17 10:39:09 +00:00)\n"
          ]
        }
      ]
    },
    {
      "cell_type": "code",
      "source": [
        "rfr.fit(X_train, y_train.values.ravel())"
      ],
      "metadata": {
        "id": "JG0mVUxF9KoS",
        "colab": {
          "base_uri": "https://localhost:8080/"
        },
        "outputId": "cd7db77e-de68-417d-bd31-948feb555c91"
      },
      "execution_count": 13,
      "outputs": [
        {
          "output_type": "execute_result",
          "data": {
            "text/plain": [
              "RandomForestClassifier()"
            ]
          },
          "metadata": {},
          "execution_count": 13
        },
        {
          "output_type": "stream",
          "name": "stdout",
          "text": [
            "time: 186 ms (started: 2022-11-17 10:41:47 +00:00)\n"
          ]
        }
      ]
    },
    {
      "cell_type": "code",
      "source": [
        "y_evalrfr = rfr.predict(X_test)\n",
        "print('RandForest (100% dataset) Accuracy', accuracy_score(y_test, y_evalrfr))"
      ],
      "metadata": {
        "id": "MpQFs6O5Wo-B",
        "colab": {
          "base_uri": "https://localhost:8080/"
        },
        "outputId": "5c208e48-e774-40ae-ccba-c1771d2ae5d2"
      },
      "execution_count": 11,
      "outputs": [
        {
          "output_type": "stream",
          "name": "stdout",
          "text": [
            "RandForest (100% dataset) Accuracy 0.6363636363636364\n",
            "time: 20.9 ms (started: 2022-11-17 10:39:14 +00:00)\n"
          ]
        }
      ]
    }
  ]
}