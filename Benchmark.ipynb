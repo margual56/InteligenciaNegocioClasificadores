{
  "nbformat": 4,
  "nbformat_minor": 0,
  "metadata": {
    "colab": {
      "provenance": [],
      "authorship_tag": "ABX9TyOvSQUGsWM8NfY0X4G4YtDd",
      "include_colab_link": true
    },
    "kernelspec": {
      "name": "python3",
      "display_name": "Python 3"
    },
    "language_info": {
      "name": "python"
    }
  },
  "cells": [
    {
      "cell_type": "code",
      "execution_count": null,
      "metadata": {
        "id": "XfPwAKPv1UW2"
      },
      "outputs": [],
      "source": [
        "# Imprime el tiempo que tarda en ejecutar cada celda\n",
        "!pip install ipython-autotime\n",
        "%load_ext autotime"
      ]
    },
    {
      "cell_type": "code",
      "source": [],
      "metadata": {
        "id": "jz44GGGk1Yqm"
      },
      "execution_count": null,
      "outputs": []
    }
  ]
}
